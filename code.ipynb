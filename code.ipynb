{
 "cells": [
  {
   "cell_type": "code",
   "execution_count": 7,
   "metadata": {},
   "outputs": [],
   "source": [
    "import mysql.connector\n"
   ]
  },
  {
   "cell_type": "code",
   "execution_count": 44,
   "metadata": {},
   "outputs": [],
   "source": [
    "# Establishing the Connection\n",
    "conn = mysql.connector.connect(\n",
    "    user='root',\n",
    "    password='siva',\n",
    "    host='localhost', \n",
    "    database='movie_database',\n",
    "    auth_plugin='mysql_native_password'\n",
    ")\n"
   ]
  },
  {
   "cell_type": "code",
   "execution_count": 45,
   "metadata": {},
   "outputs": [],
   "source": [
    "# Creating Cursor Object\n",
    "cursor=conn.cursor()"
   ]
  },
  {
   "cell_type": "markdown",
   "metadata": {},
   "source": [
    "### Query 1 : Retrieving one Movie from the database"
   ]
  },
  {
   "cell_type": "code",
   "execution_count": 26,
   "metadata": {},
   "outputs": [
    {
     "name": "stdout",
     "output_type": "stream",
     "text": [
      "('RRR', 'Ram Charan', 'Alia Bhatt', '2022', 'SS Rajamouli')\n"
     ]
    }
   ],
   "source": [
    "s1 = '''SELECT * from movies_data'''\n",
    "cursor.execute(s1)\n",
    "result = cursor.fetchone();\n",
    "print(result)"
   ]
  },
  {
   "cell_type": "markdown",
   "metadata": {},
   "source": [
    "### Query 2 : Retrieving 3 Movies from the database"
   ]
  },
  {
   "cell_type": "code",
   "execution_count": 30,
   "metadata": {},
   "outputs": [
    {
     "name": "stdout",
     "output_type": "stream",
     "text": [
      "[('RRR', 'Ram Charan', 'Alia Bhatt', '2022', 'SS Rajamouli'), ('Godse', 'Satyadev Kancharana', 'Aishwarya Lekshmi', '2022', 'Gopiganesh Pattabhii'), ('Bahubali The Conclusion', 'Prabhas', 'Anushka Shetty', '2016', 'SS Rajmouli')]\n"
     ]
    }
   ],
   "source": [
    "s2 = '''SELECT * from movies_data'''\n",
    "cursor.execute(s2)\n",
    "result = cursor.fetchmany(size=3);\n",
    "print(result)"
   ]
  },
  {
   "cell_type": "markdown",
   "metadata": {},
   "source": [
    "#### Query 3 : Retrieving all the attributes from 'movies' table based on 'Actor'"
   ]
  },
  {
   "cell_type": "code",
   "execution_count": 38,
   "metadata": {},
   "outputs": [
    {
     "name": "stdout",
     "output_type": "stream",
     "text": [
      "[('RRR', 'Ram Charan', 'Alia Bhatt', '2022', 'SS Rajamouli')]\n"
     ]
    }
   ],
   "source": [
    "s3 = '''SELECT Movie_Name,Actor,Actress,Year_of_release,Director FROM movies_data WHERE Actor='Ram Charan';'''\n",
    "cursor.execute(s3)\n",
    "result = cursor.fetchall();\n",
    "print(result)"
   ]
  },
  {
   "cell_type": "markdown",
   "metadata": {},
   "source": [
    "#### Query 4 : Retrieving Movies_name from Movies table based on  Actor , Actress , Year of release\n"
   ]
  },
  {
   "cell_type": "code",
   "execution_count": 43,
   "metadata": {},
   "outputs": [
    {
     "name": "stdout",
     "output_type": "stream",
     "text": [
      "[('RRR', 'Ram Charan', 'Alia Bhatt', '2022', 'SS Rajamouli')]\n"
     ]
    }
   ],
   "source": [
    "s4 = '''SELECT Movie_Name,Actor,Actress,Year_of_release,Director FROM movies_data WHERE Actor='Ram Charan' and Actress='Alia Bhatt' and Year_of_release='2022';'''\n",
    "cursor.execute(s4)\n",
    "result = cursor.fetchall();\n",
    "print(result)"
   ]
  },
  {
   "cell_type": "markdown",
   "metadata": {},
   "source": [
    "#### Query 5: Sort the values based on Year_of_release"
   ]
  },
  {
   "cell_type": "code",
   "execution_count": 46,
   "metadata": {},
   "outputs": [
    {
     "name": "stdout",
     "output_type": "stream",
     "text": [
      "[('Bahubali The Conclusion', 'Prabhas', 'Anushka Shetty', '2016', 'SS Rajmouli'), ('KGF Chapter 1', 'Yash', 'Srinidhi Shetty', '2018', 'Prashanth Neel'), ('RRR', 'Siddharth', 'Kiara', '2020', 'Vishnuvardhan'), ('RRR', 'Ram Charan', 'Alia Bhatt', '2022', 'SS Rajamouli'), ('Godse', 'Satyadev Kancharana', 'Aishwarya Lekshmi', '2022', 'Gopiganesh Pattabhii')]\n"
     ]
    }
   ],
   "source": [
    "s5 = '''SELECT Movie_Name,Actor,Actress,Year_of_release,Director FROM movies_data ORDER BY Year_of_release;'''\n",
    "cursor.execute(s5)\n",
    "result = cursor.fetchall();\n",
    "print(result)"
   ]
  },
  {
   "cell_type": "markdown",
   "metadata": {},
   "source": [
    "#### Query 6: Retrieving all the Movie Name , Director Name from Movies Table that are not directed by SS Rajmouli"
   ]
  },
  {
   "cell_type": "code",
   "execution_count": 47,
   "metadata": {},
   "outputs": [
    {
     "name": "stdout",
     "output_type": "stream",
     "text": [
      "[('RRR', 'SS Rajamouli'), ('Godse', 'Gopiganesh Pattabhii'), ('KGF Chapter 1', 'Prashanth Neel'), ('RRR', 'Vishnuvardhan')]\n"
     ]
    }
   ],
   "source": [
    "s6 = '''SELECT Movie_Name,Director FROM movies_data WHERE Director!='SS Rajmouli';'''\n",
    "cursor.execute(s6)\n",
    "result = cursor.fetchall();\n",
    "print(result)"
   ]
  },
  {
   "cell_type": "code",
   "execution_count": null,
   "metadata": {},
   "outputs": [],
   "source": []
  }
 ],
 "metadata": {
  "kernelspec": {
   "display_name": "Python 3.7.9 64-bit",
   "language": "python",
   "name": "python3"
  },
  "language_info": {
   "codemirror_mode": {
    "name": "ipython",
    "version": 3
   },
   "file_extension": ".py",
   "mimetype": "text/x-python",
   "name": "python",
   "nbconvert_exporter": "python",
   "pygments_lexer": "ipython3",
   "version": "3.7.9"
  },
  "orig_nbformat": 4,
  "vscode": {
   "interpreter": {
    "hash": "5109d816b82be14675a6b11f8e0f0d2e80f029176ed3710d54e125caa8520dfd"
   }
  }
 },
 "nbformat": 4,
 "nbformat_minor": 2
}
